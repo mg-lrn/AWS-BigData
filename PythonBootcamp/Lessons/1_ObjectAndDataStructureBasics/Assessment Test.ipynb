{
  "cells": [
    {
      "cell_type": "markdown",
      "metadata": {
        "pycharm": {}
      },
      "source": [
        "# Objects and Data Structures Assessment Test"
      ]
    },
    {
      "cell_type": "markdown",
      "metadata": {
        "collapsed": true,
        "pycharm": {}
      },
      "source": [
        "## Test your knowledge. \n",
        "\n",
        "** Answer the following questions **"
      ]
    },
    {
      "cell_type": "markdown",
      "metadata": {
        "collapsed": true,
        "pycharm": {}
      },
      "source": [
        "Write a brief description of all the following Object Types and Data Structures we\u0027ve learned about: "
      ]
    },
    {
      "cell_type": "markdown",
      "metadata": {
        "pycharm": {}
      },
      "source": [
        "Numbers:\n",
        "\n",
        "Strings:\n",
        "\n",
        "Lists:\n",
        "\n",
        "Tuples:\n",
        "\n",
        "Dictionaries:\n"
      ]
    },
    {
      "cell_type": "markdown",
      "metadata": {
        "pycharm": {}
      },
      "source": [
        "## Numbers\n",
        "\n",
        "Write an equation that uses multiplication, division, an exponent, addition, and subtraction that is equal to 100.25.\n",
        "\n",
        "Hint: This is just to test your memory of the basic arithmetic commands, work backwards from 100.25"
      ]
    },
    {
      "cell_type": "code",
      "execution_count": 0,
      "metadata": {
        "pycharm": {
          "is_executing": false
        }
      },
      "outputs": [],
      "source": []
    },
    {
      "cell_type": "markdown",
      "metadata": {
        "pycharm": {}
      },
      "source": [
        "Answer these 3 questions without typing code. Then type code to check your answer.\n",
        "\n",
        "    What is the value of the expression 4 * (6 + 5)\n",
        "    \n",
        "    What is the value of the expression 4 * 6 + 5 \n",
        "    \n",
        "    What is the value of the expression 4 + 6 * 5 "
      ]
    },
    {
      "cell_type": "code",
      "execution_count": null,
      "metadata": {
        "pycharm": {}
      },
      "outputs": [],
      "source": []
    },
    {
      "cell_type": "markdown",
      "metadata": {
        "pycharm": {}
      },
      "source": [
        "What is the *type* of the result of the expression 3 + 1.5 + 4?\u003cbr\u003e\u003cbr\u003e"
      ]
    },
    {
      "cell_type": "markdown",
      "metadata": {
        "pycharm": {}
      },
      "source": [
        "What would you use to find a number’s square root, as well as its square? "
      ]
    },
    {
      "cell_type": "code",
      "execution_count": null,
      "metadata": {
        "pycharm": {}
      },
      "outputs": [],
      "source": [
        "# Square root:\n"
      ]
    },
    {
      "cell_type": "code",
      "execution_count": null,
      "metadata": {
        "pycharm": {}
      },
      "outputs": [],
      "source": [
        "# Square:\n"
      ]
    },
    {
      "cell_type": "markdown",
      "metadata": {
        "pycharm": {}
      },
      "source": [
        "## Strings"
      ]
    },
    {
      "cell_type": "markdown",
      "metadata": {
        "pycharm": {}
      },
      "source": [
        "Given the string \u0027hello\u0027 give an index command that returns \u0027e\u0027. Enter your code in the cell below:"
      ]
    },
    {
      "cell_type": "code",
      "execution_count": null,
      "metadata": {
        "pycharm": {}
      },
      "outputs": [],
      "source": [
        "s \u003d \u0027hello\u0027\n",
        "# Print out \u0027e\u0027 using indexing\n",
        "\n"
      ]
    },
    {
      "cell_type": "markdown",
      "metadata": {
        "pycharm": {}
      },
      "source": [
        "Reverse the string \u0027hello\u0027 using slicing:"
      ]
    },
    {
      "cell_type": "code",
      "execution_count": null,
      "metadata": {
        "pycharm": {}
      },
      "outputs": [],
      "source": [
        "s \u003d\u0027hello\u0027\n",
        "# Reverse the string using slicing\n",
        "\n"
      ]
    },
    {
      "cell_type": "markdown",
      "metadata": {
        "pycharm": {}
      },
      "source": [
        "Given the string hello, give two methods of producing the letter \u0027o\u0027 using indexing."
      ]
    },
    {
      "cell_type": "code",
      "execution_count": null,
      "metadata": {
        "pycharm": {}
      },
      "outputs": [],
      "source": [
        "s \u003d\u0027hello\u0027\n",
        "# Print out the \u0027o\u0027\n",
        "\n",
        "# Method 1:\n",
        "\n"
      ]
    },
    {
      "cell_type": "code",
      "execution_count": null,
      "metadata": {
        "pycharm": {}
      },
      "outputs": [],
      "source": [
        "# Method 2:\n",
        "\n"
      ]
    },
    {
      "cell_type": "markdown",
      "metadata": {
        "pycharm": {}
      },
      "source": [
        "## Lists"
      ]
    },
    {
      "cell_type": "markdown",
      "metadata": {
        "pycharm": {}
      },
      "source": [
        "Build this list [0,0,0] two separate ways."
      ]
    },
    {
      "cell_type": "code",
      "execution_count": null,
      "metadata": {
        "pycharm": {}
      },
      "outputs": [],
      "source": [
        "# Method 1:\n"
      ]
    },
    {
      "cell_type": "code",
      "execution_count": null,
      "metadata": {
        "pycharm": {}
      },
      "outputs": [],
      "source": [
        "# Method 2:\n"
      ]
    },
    {
      "cell_type": "markdown",
      "metadata": {
        "pycharm": {}
      },
      "source": [
        "Reassign \u0027hello\u0027 in this nested list to say \u0027goodbye\u0027 instead:"
      ]
    },
    {
      "cell_type": "code",
      "execution_count": null,
      "metadata": {
        "pycharm": {}
      },
      "outputs": [],
      "source": [
        "list3 \u003d [1,2,[3,4,\u0027hello\u0027]]\n",
        "\n"
      ]
    },
    {
      "cell_type": "markdown",
      "metadata": {
        "pycharm": {}
      },
      "source": [
        "Sort the list below:"
      ]
    },
    {
      "cell_type": "code",
      "execution_count": null,
      "metadata": {
        "pycharm": {}
      },
      "outputs": [],
      "source": [
        "list4 \u003d [5,3,4,6,1]\n",
        "\n"
      ]
    },
    {
      "cell_type": "markdown",
      "metadata": {
        "pycharm": {}
      },
      "source": [
        "## Dictionaries"
      ]
    },
    {
      "cell_type": "markdown",
      "metadata": {
        "pycharm": {}
      },
      "source": [
        "Using keys and indexing, grab the \u0027hello\u0027 from the following dictionaries:"
      ]
    },
    {
      "cell_type": "code",
      "execution_count": null,
      "metadata": {
        "pycharm": {}
      },
      "outputs": [],
      "source": [
        "d \u003d {\u0027simple_key\u0027:\u0027hello\u0027}\n",
        "# Grab \u0027hello\u0027\n"
      ]
    },
    {
      "cell_type": "code",
      "execution_count": null,
      "metadata": {
        "pycharm": {}
      },
      "outputs": [],
      "source": [
        "d \u003d {\u0027k1\u0027:{\u0027k2\u0027:\u0027hello\u0027}}\n",
        "# Grab \u0027hello\u0027\n"
      ]
    },
    {
      "cell_type": "code",
      "execution_count": null,
      "metadata": {
        "pycharm": {}
      },
      "outputs": [],
      "source": [
        "# Getting a little tricker\n",
        "d \u003d {\u0027k1\u0027:[{\u0027nest_key\u0027:[\u0027this is deep\u0027,[\u0027hello\u0027]]}]}\n",
        "\n",
        "#Grab hello\n"
      ]
    },
    {
      "cell_type": "code",
      "execution_count": null,
      "metadata": {
        "pycharm": {}
      },
      "outputs": [],
      "source": [
        "# This will be hard and annoying!\n",
        "d \u003d {\u0027k1\u0027:[1,2,{\u0027k2\u0027:[\u0027this is tricky\u0027,{\u0027tough\u0027:[1,2,[\u0027hello\u0027]]}]}]}"
      ]
    },
    {
      "cell_type": "markdown",
      "metadata": {
        "pycharm": {}
      },
      "source": [
        "Can you sort a dictionary? Why or why not?\u003cbr\u003e\u003cbr\u003e"
      ]
    },
    {
      "cell_type": "markdown",
      "metadata": {
        "pycharm": {}
      },
      "source": [
        "## Tuples"
      ]
    },
    {
      "cell_type": "markdown",
      "metadata": {
        "pycharm": {}
      },
      "source": [
        "What is the major difference between tuples and lists?\u003cbr\u003e\u003cbr\u003e"
      ]
    },
    {
      "cell_type": "markdown",
      "metadata": {
        "pycharm": {}
      },
      "source": [
        "How do you create a tuple?\u003cbr\u003e\u003cbr\u003e"
      ]
    },
    {
      "cell_type": "markdown",
      "metadata": {
        "pycharm": {}
      },
      "source": [
        "## Sets "
      ]
    },
    {
      "cell_type": "markdown",
      "metadata": {
        "pycharm": {}
      },
      "source": [
        "What is unique about a set?\u003cbr\u003e\u003cbr\u003e"
      ]
    },
    {
      "cell_type": "markdown",
      "metadata": {
        "pycharm": {}
      },
      "source": [
        "Use a set to find the unique values of the list below:"
      ]
    },
    {
      "cell_type": "code",
      "execution_count": null,
      "metadata": {
        "pycharm": {}
      },
      "outputs": [],
      "source": [
        "list5 \u003d [1,2,2,33,4,4,11,22,3,3,2]\n",
        "\n",
        "\n"
      ]
    },
    {
      "cell_type": "markdown",
      "metadata": {
        "pycharm": {}
      },
      "source": [
        "## Booleans"
      ]
    },
    {
      "cell_type": "markdown",
      "metadata": {
        "pycharm": {}
      },
      "source": [
        "For the following quiz questions, we will get a preview of comparison operators. In the table below, a\u003d3 and b\u003d4.\n",
        "\n",
        "\u003ctable class\u003d\"table table-bordered\"\u003e\n",
        "\u003ctr\u003e\n",
        "\u003cth style\u003d\"width:10%\"\u003eOperator\u003c/th\u003e\u003cth style\u003d\"width:45%\"\u003eDescription\u003c/th\u003e\u003cth\u003eExample\u003c/th\u003e\n",
        "\u003c/tr\u003e\n",
        "\u003ctr\u003e\n",
        "\u003ctd\u003e\u003d\u003d\u003c/td\u003e\n",
        "\u003ctd\u003eIf the values of two operands are equal, then the condition becomes true.\u003c/td\u003e\n",
        "\u003ctd\u003e (a \u003d\u003d b) is not true.\u003c/td\u003e\n",
        "\u003c/tr\u003e\n",
        "\u003ctr\u003e\n",
        "\u003ctd\u003e!\u003d\u003c/td\u003e\n",
        "\u003ctd\u003eIf values of two operands are not equal, then condition becomes true.\u003c/td\u003e\n",
        "\u003ctd\u003e (a !\u003d b) is true.\u003c/td\u003e\n",
        "\u003c/tr\u003e\n",
        "\u003ctr\u003e\n",
        "\u003ctd\u003e\u0026gt;\u003c/td\u003e\n",
        "\u003ctd\u003eIf the value of left operand is greater than the value of right operand, then condition becomes true.\u003c/td\u003e\n",
        "\u003ctd\u003e (a \u0026gt; b) is not true.\u003c/td\u003e\n",
        "\u003c/tr\u003e\n",
        "\u003ctr\u003e\n",
        "\u003ctd\u003e\u0026lt;\u003c/td\u003e\n",
        "\u003ctd\u003eIf the value of left operand is less than the value of right operand, then condition becomes true.\u003c/td\u003e\n",
        "\u003ctd\u003e (a \u0026lt; b) is true.\u003c/td\u003e\n",
        "\u003c/tr\u003e\n",
        "\u003ctr\u003e\n",
        "\u003ctd\u003e\u0026gt;\u003d\u003c/td\u003e\n",
        "\u003ctd\u003eIf the value of left operand is greater than or equal to the value of right operand, then condition becomes true.\u003c/td\u003e\n",
        "\u003ctd\u003e (a \u0026gt;\u003d b) is not true. \u003c/td\u003e\n",
        "\u003c/tr\u003e\n",
        "\u003ctr\u003e\n",
        "\u003ctd\u003e\u0026lt;\u003d\u003c/td\u003e\n",
        "\u003ctd\u003eIf the value of left operand is less than or equal to the value of right operand, then condition becomes true.\u003c/td\u003e\n",
        "\u003ctd\u003e (a \u0026lt;\u003d b) is true. \u003c/td\u003e\n",
        "\u003c/tr\u003e\n",
        "\u003c/table\u003e"
      ]
    },
    {
      "cell_type": "markdown",
      "metadata": {
        "pycharm": {}
      },
      "source": [
        "What will be the resulting Boolean of the following pieces of code (answer fist then check by typing it in!)"
      ]
    },
    {
      "cell_type": "code",
      "execution_count": null,
      "metadata": {
        "pycharm": {}
      },
      "outputs": [],
      "source": [
        "# Answer before running cell\n",
        "2 \u003e 3"
      ]
    },
    {
      "cell_type": "code",
      "execution_count": null,
      "metadata": {
        "pycharm": {}
      },
      "outputs": [],
      "source": [
        "# Answer before running cell\n",
        "3 \u003c\u003d 2"
      ]
    },
    {
      "cell_type": "code",
      "execution_count": null,
      "metadata": {
        "pycharm": {}
      },
      "outputs": [],
      "source": [
        "# Answer before running cell\n",
        "3 \u003d\u003d 2.0"
      ]
    },
    {
      "cell_type": "code",
      "execution_count": null,
      "metadata": {
        "pycharm": {}
      },
      "outputs": [],
      "source": [
        "# Answer before running cell\n",
        "3.0 \u003d\u003d 3"
      ]
    },
    {
      "cell_type": "code",
      "execution_count": null,
      "metadata": {
        "pycharm": {}
      },
      "outputs": [],
      "source": [
        "# Answer before running cell\n",
        "4**0.5 !\u003d 2"
      ]
    },
    {
      "cell_type": "markdown",
      "metadata": {
        "pycharm": {}
      },
      "source": [
        "Final Question: What is the boolean output of the cell block below?"
      ]
    },
    {
      "cell_type": "code",
      "execution_count": 1,
      "metadata": {
        "pycharm": {
          "is_executing": false
        }
      },
      "outputs": [
        {
          "data": {
            "text/plain": "False"
          },
          "metadata": {},
          "output_type": "execute_result",
          "execution_count": 1
        }
      ],
      "source": [
        "# two nested lists\n",
        "l_one \u003d [1,2,[3,4]]\n",
        "l_two \u003d [1,2,{\u0027k1\u0027:4}]\n",
        "\n",
        "# True or False?\n",
        "l_one[2][0] \u003e\u003d l_two[2][\u0027k1\u0027]"
      ]
    },
    {
      "cell_type": "markdown",
      "metadata": {
        "pycharm": {}
      },
      "source": [
        "## Great Job on your first assessment! "
      ]
    }
  ],
  "metadata": {
    "anaconda-cloud": {},
    "kernelspec": {
      "display_name": "Python 3",
      "language": "python",
      "name": "python3"
    },
    "language_info": {
      "codemirror_mode": {
        "name": "ipython",
        "version": 3
      },
      "file_extension": ".py",
      "mimetype": "text/x-python",
      "name": "python",
      "nbconvert_exporter": "python",
      "pygments_lexer": "ipython3",
      "version": "3.6.2"
    }
  },
  "nbformat": 4,
  "nbformat_minor": 1
}